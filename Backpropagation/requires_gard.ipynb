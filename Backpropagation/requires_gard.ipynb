{
 "cells": [
  {
   "cell_type": "markdown",
   "id": "3df293ef-e4e2-4732-82d8-9d33ee2b926e",
   "metadata": {},
   "source": [
    "#  requires_grad =True\n",
    "\n",
    "*PyTorch의 자동 미분(autograd) 시스템에서 이 텐서의 연산 과정을 추적할지 여부를 결정하는 플래그"
   ]
  },
  {
   "cell_type": "code",
   "execution_count": 1,
   "id": "2e248edc-161a-4df3-abb0-3896d0c9de44",
   "metadata": {},
   "outputs": [
    {
     "name": "stdout",
     "output_type": "stream",
     "text": [
      "tensor([4., 6.], grad_fn=<MulBackward0>)\n",
      "tensor(10., grad_fn=<SumBackward0>)\n",
      "tensor([2., 2.])\n"
     ]
    }
   ],
   "source": [
    "import torch\n",
    "\n",
    "x = torch.tensor([2.0, 3.0], requires_grad=True)\n",
    "y = x * 2\n",
    "z = y.sum()\n",
    "\n",
    "print(y)  # tensor([4., 6.], grad_fn=<MulBackward0>)\n",
    "print(z)  # tensor(10., grad_fn=<SumBackward0>)\n",
    "\n",
    "# 역전파\n",
    "z.backward()\n",
    "print(x.grad)  # tensor([2., 2.])\n"
   ]
  },
  {
   "cell_type": "markdown",
   "id": "35ead141-8781-4a3c-a00e-677880ec8ad0",
   "metadata": {},
   "source": [
    "* requires_grad=True :\n",
    "→ 이 텐서로 연산이 일어나면 연산 그래프를 추적하고, 나중에 backward()를 호출했을 때 gradient가 계산됩니다.\n",
    "* x는 requires_grad=True → 연산 추적됨\n",
    "* z.backward() 실행 시, dz/dx = 2가 계산돼서 x.grad = [2, 2] 저장"
   ]
  },
  {
   "cell_type": "markdown",
   "id": "d53ec8d9-2ee9-4994-8df5-f8e63c1ffcc3",
   "metadata": {},
   "source": [
    "설명) y = x * 2 → 각 요소는 y_i = 2 * x_i이고,\n",
    "z = y.sum() → z = y₁ + y₂ = 2*x₁ + 2*x₂ 이므로\n",
    "각 성분에 대한 편미분 ∂z/∂x_i = 2가 되어 x.grad = [2, 2]가 됩니다."
   ]
  },
  {
   "cell_type": "code",
   "execution_count": null,
   "id": "aca1cad1-4036-4512-86e2-dccbd5be1dfc",
   "metadata": {},
   "outputs": [],
   "source": []
  },
  {
   "cell_type": "code",
   "execution_count": null,
   "id": "73543e96-ae39-4a28-8d5e-01efbae88840",
   "metadata": {},
   "outputs": [],
   "source": []
  }
 ],
 "metadata": {
  "kernelspec": {
   "display_name": "Anaconda Python (myenv)",
   "language": "python",
   "name": "myenv"
  },
  "language_info": {
   "codemirror_mode": {
    "name": "ipython",
    "version": 3
   },
   "file_extension": ".py",
   "mimetype": "text/x-python",
   "name": "python",
   "nbconvert_exporter": "python",
   "pygments_lexer": "ipython3",
   "version": "3.10.18"
  }
 },
 "nbformat": 4,
 "nbformat_minor": 5
}

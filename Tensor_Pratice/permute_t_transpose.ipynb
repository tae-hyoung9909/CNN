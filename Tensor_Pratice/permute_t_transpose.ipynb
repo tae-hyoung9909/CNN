{
 "cells": [
  {
   "cell_type": "markdown",
   "id": "3ae6c3a6-8edd-441d-8543-615308df97eb",
   "metadata": {},
   "source": [
    "# Permute()\n",
    "\n",
    "차원의 위치를 자유롭게 변경할 수 있음"
   ]
  },
  {
   "cell_type": "code",
   "execution_count": 1,
   "id": "c03d2a6e-c69d-4d8c-b261-ad1f8389d110",
   "metadata": {},
   "outputs": [
    {
     "data": {
      "text/plain": [
       "<torch._C.Generator at 0x1553eeeceb0>"
      ]
     },
     "execution_count": 1,
     "metadata": {},
     "output_type": "execute_result"
    }
   ],
   "source": [
    "import torch\n",
    "\n",
    "torch.manual_seed(2025)"
   ]
  },
  {
   "cell_type": "markdown",
   "id": "bd3d11c9-a1e4-42d2-bc17-47309375a78e",
   "metadata": {},
   "source": [
    "여기서 차원 축을 알아야함\n",
    "\n",
    "1차원 -> size[dim0] ([행])\n",
    "\n",
    "2차원 -> size[dim0, dim1] ( [행, 열] )\n",
    "\n",
    "3차원 -> size[dim0, dim1, dim2] ([갯수, 행, 열])\n",
    "\n",
    "4차원\n",
    "\n",
    "- size[2, 4, 2, 4]\n",
    "    - dim0: 2\n",
    "    - dim1: 4,\n",
    "    - dim2: 2\n",
    "    - dim3: 4"
   ]
  },
  {
   "cell_type": "code",
   "execution_count": 4,
   "id": "e09eea72-daf4-4b8e-b6d5-a5a4f2791a91",
   "metadata": {},
   "outputs": [
    {
     "name": "stdout",
     "output_type": "stream",
     "text": [
      "torch.Size([64, 64, 3])\n",
      "torch.Size([3, 64, 64])\n",
      "torch.Size([64, 64, 3])\n"
     ]
    }
   ],
   "source": [
    "ts_01 = torch.rand(size=(64, 64, 3))\n",
    "print(ts_01.shape)\n",
    "\n",
    "ts_02 = ts_01.permute(dims=(2, 0, 1)) # torch.permute(ts_01, dims=(2, 0, 1))\n",
    "print(ts_02.shape)\n",
    "\n",
    "ts_03 = ts_02.permute(dims=(1, 2, 0)) # torch.permute(ts_02, dims=(1, 2, 0))\n",
    "print(ts_03.shape)"
   ]
  },
  {
   "cell_type": "code",
   "execution_count": 8,
   "id": "486b010e-41e9-480e-a58d-39df1ee240b0",
   "metadata": {},
   "outputs": [
    {
     "name": "stdout",
     "output_type": "stream",
     "text": [
      "torch.Size([16, 3, 32, 32])\n"
     ]
    }
   ],
   "source": [
    "# 4차원 일때\n",
    "ts_01 = torch.rand(size=(16, 32, 32, 3))\n",
    "ts_02 = ts_01.permute(dims=(0, 3, 1, 2))\n",
    "print(ts_02.shape)"
   ]
  },
  {
   "cell_type": "markdown",
   "id": "c57c0354-660e-4dc1-b20c-23a63be4603e",
   "metadata": {},
   "source": [
    "### permute하면 연속 메모리가 유지되나?"
   ]
  },
  {
   "cell_type": "code",
   "execution_count": 7,
   "id": "c7112858-7c55-4434-b9af-1080be28778e",
   "metadata": {},
   "outputs": [
    {
     "name": "stdout",
     "output_type": "stream",
     "text": [
      "ts_02 shape: torch.Size([64, 64, 3])\n",
      "is ts_02 contiguous?  False\n"
     ]
    }
   ],
   "source": [
    "ts_01 = torch.rand(size=(3, 64, 64))\n",
    "ts_02 = torch.permute(ts_01, dims=(1, 2, 0)) #permute로 차원 이동 시 연속(contiguous) 메모리 구조가 깨질 수 있음.\n",
    "print('ts_02 shape:', ts_02.shape)\n",
    "print('is ts_02 contiguous? ', ts_02.is_contiguous()) #false"
   ]
  },
  {
   "cell_type": "markdown",
   "id": "4027b611-dc86-4559-b1bd-a047b7359054",
   "metadata": {},
   "source": [
    "No, permute하면 연속형 메모리가 깨지기 때문에 false"
   ]
  },
  {
   "cell_type": "code",
   "execution_count": 9,
   "id": "f7c8c8b8-9cfe-4239-82b3-28f1d541a695",
   "metadata": {},
   "outputs": [
    {
     "ename": "RuntimeError",
     "evalue": "view size is not compatible with input tensor's size and stride (at least one dimension spans across two contiguous subspaces). Use .reshape(...) instead.",
     "output_type": "error",
     "traceback": [
      "\u001b[31m---------------------------------------------------------------------------\u001b[39m",
      "\u001b[31mRuntimeError\u001b[39m                              Traceback (most recent call last)",
      "\u001b[36mCell\u001b[39m\u001b[36m \u001b[39m\u001b[32mIn[9]\u001b[39m\u001b[32m, line 2\u001b[39m\n\u001b[32m      1\u001b[39m \u001b[38;5;66;03m# permute로 차원 이동 했을때 메모리 구조가 깨질수 있기 때문에 view를 사용못함\u001b[39;00m\n\u001b[32m----> \u001b[39m\u001b[32m2\u001b[39m ts_02_1 = \u001b[43mts_02\u001b[49m\u001b[43m.\u001b[49m\u001b[43mview\u001b[49m\u001b[43m(\u001b[49m\u001b[32;43m64\u001b[39;49m\u001b[43m,\u001b[49m\u001b[43m \u001b[49m\u001b[43m-\u001b[49m\u001b[32;43m1\u001b[39;49m\u001b[43m)\u001b[49m \u001b[38;5;66;03m#에러\u001b[39;00m\n",
      "\u001b[31mRuntimeError\u001b[39m: view size is not compatible with input tensor's size and stride (at least one dimension spans across two contiguous subspaces). Use .reshape(...) instead."
     ]
    }
   ],
   "source": [
    "# permute로 차원 이동 했을때 메모리 구조가 깨질수 있기 때문에 view를 사용못함\n",
    "ts_02_1 = ts_02.view(64, -1) #에러"
   ]
  },
  {
   "cell_type": "code",
   "execution_count": 11,
   "id": "76c2f967-f574-4f47-85ab-37f8eb414103",
   "metadata": {},
   "outputs": [
    {
     "name": "stdout",
     "output_type": "stream",
     "text": [
      "ts_02_1 shape: torch.Size([64, 192])\n"
     ]
    }
   ],
   "source": [
    "# reshape는 상관없음\n",
    "ts_01 = torch.rand(size=(3, 64, 64))\n",
    "ts_02 = torch.permute(ts_01, dims=(1, 2, 0))\n",
    "\n",
    "ts_02_1 = ts_02.reshape(64, -1)\n",
    "print('ts_02_1 shape:', ts_02_1.shape)\n"
   ]
  },
  {
   "cell_type": "code",
   "execution_count": 12,
   "id": "68fb718b-e5d0-41e0-8673-2517d4fccfde",
   "metadata": {},
   "outputs": [
    {
     "name": "stdout",
     "output_type": "stream",
     "text": [
      "ts_02 shape: torch.Size([64, 64, 3])\n"
     ]
    }
   ],
   "source": [
    "ts_01 = torch.rand(size=(3, 64, 64))\n",
    "ts_02 = torch.permute(ts_01, dims=(1, 2, 0))\n",
    "print('ts_02 shape:', ts_02.shape)\n",
    "\n",
    "ts_02_1 = ts_02.contiguous().view(64, -1) # contiguous()로 연속 메모리 구조 만든 후 view() 적용."
   ]
  },
  {
   "cell_type": "markdown",
   "id": "1fb4576c-b7fd-4a4d-8085-94fe075b0c74",
   "metadata": {},
   "source": [
    "# t()\n",
    "\n",
    "2차원 tensor의 row와 col을 변경."
   ]
  },
  {
   "cell_type": "code",
   "execution_count": 13,
   "id": "40ffcf68-aedd-4ec3-8464-d94cedcc4f32",
   "metadata": {},
   "outputs": [
    {
     "name": "stdout",
     "output_type": "stream",
     "text": [
      "ts_02 shape: torch.Size([4, 3])\n"
     ]
    }
   ],
   "source": [
    "ts_01 = torch.rand(size=(3, 4))\n",
    "ts_02 = ts_01.t()\n",
    "print('ts_02 shape:', ts_02.shape)"
   ]
  },
  {
   "cell_type": "markdown",
   "id": "1eeabdd4-3f4d-4ec5-8583-8a3dbfcb238d",
   "metadata": {},
   "source": [
    "# transpose()\n",
    "\n",
    "2개 차원의 위치만 변경할 수 있음."
   ]
  },
  {
   "cell_type": "code",
   "execution_count": 14,
   "id": "8b7af396-d997-4957-a4d8-736888ad47b2",
   "metadata": {},
   "outputs": [
    {
     "name": "stdout",
     "output_type": "stream",
     "text": [
      "ts_02 shape: torch.Size([64, 3, 248, 128])\n"
     ]
    }
   ],
   "source": [
    "ts_01 = torch.rand(size=(64, 3, 128, 248))\n",
    "ts_02 = ts_01.transpose(2, 3) #dim2, dim3를 변경\n",
    "print('ts_02 shape:', ts_02.shape)"
   ]
  },
  {
   "cell_type": "code",
   "execution_count": null,
   "id": "8cd4d442-6e12-421f-b464-e06d5a97a920",
   "metadata": {},
   "outputs": [],
   "source": []
  }
 ],
 "metadata": {
  "kernelspec": {
   "display_name": "test_venv",
   "language": "python",
   "name": "test_venv"
  },
  "language_info": {
   "codemirror_mode": {
    "name": "ipython",
    "version": 3
   },
   "file_extension": ".py",
   "mimetype": "text/x-python",
   "name": "python",
   "nbconvert_exporter": "python",
   "pygments_lexer": "ipython3",
   "version": "3.13.7"
  }
 },
 "nbformat": 4,
 "nbformat_minor": 5
}

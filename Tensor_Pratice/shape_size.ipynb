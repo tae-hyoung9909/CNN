{
 "cells": [
  {
   "cell_type": "markdown",
   "id": "9c139d1f-598b-402a-9a35-6ff936168d1c",
   "metadata": {},
   "source": [
    "# shape, size"
   ]
  },
  {
   "cell_type": "code",
   "execution_count": 14,
   "id": "71aa3152-19ad-4123-a2b0-517828a6188e",
   "metadata": {},
   "outputs": [],
   "source": [
    "import torch\n",
    "\n",
    "ts_02 = torch.tensor([[1, 2, 3],\n",
    "                      [2, 3, 4]\n",
    "                     ])"
   ]
  },
  {
   "cell_type": "code",
   "execution_count": 15,
   "id": "a69285f5-8b65-4733-a13e-b8e1c2801d9b",
   "metadata": {},
   "outputs": [
    {
     "data": {
      "text/plain": [
       "torch.Size([2, 3])"
      ]
     },
     "execution_count": 15,
     "metadata": {},
     "output_type": "execute_result"
    }
   ],
   "source": [
    "ts_02.shape"
   ]
  },
  {
   "cell_type": "code",
   "execution_count": 16,
   "id": "40b505ca-0526-4ef6-a8db-2ee102dd26ba",
   "metadata": {},
   "outputs": [
    {
     "data": {
      "text/plain": [
       "torch.Size([2, 3])"
      ]
     },
     "execution_count": 16,
     "metadata": {},
     "output_type": "execute_result"
    }
   ],
   "source": [
    "ts_02.size()"
   ]
  },
  {
   "cell_type": "code",
   "execution_count": 18,
   "id": "7961b29a-e872-42f1-91b4-bca0131982bb",
   "metadata": {},
   "outputs": [
    {
     "name": "stdout",
     "output_type": "stream",
     "text": [
      "2 3 2 3 2\n"
     ]
    }
   ],
   "source": [
    "print(ts_02.shape[0], ts_02.shape[1], ts_02.size(0), ts_02.size(1), ts_02.size()[0]) "
   ]
  },
  {
   "cell_type": "markdown",
   "id": "2b7c2645-fd77-4ecd-9e76-ece632ce949f",
   "metadata": {},
   "source": [
    "## 넘파이일때는?"
   ]
  },
  {
   "cell_type": "code",
   "execution_count": 19,
   "id": "be0b4b7c-c8ab-4c36-89b0-56896d875cbc",
   "metadata": {},
   "outputs": [],
   "source": [
    "import numpy as np\n",
    "\n",
    "numpy_02 = np.array([[1, 2, 3],\n",
    "                      [2, 3, 4]\n",
    "                     ])"
   ]
  },
  {
   "cell_type": "code",
   "execution_count": 20,
   "id": "8b8cdc49-6479-48bb-a936-fdc475b95c46",
   "metadata": {},
   "outputs": [
    {
     "data": {
      "text/plain": [
       "(2, 3)"
      ]
     },
     "execution_count": 20,
     "metadata": {},
     "output_type": "execute_result"
    }
   ],
   "source": [
    "numpy_02.shape"
   ]
  },
  {
   "cell_type": "code",
   "execution_count": 21,
   "id": "07373dac-a789-48ff-984e-01800227d0d0",
   "metadata": {},
   "outputs": [
    {
     "data": {
      "text/plain": [
       "6"
      ]
     },
     "execution_count": 21,
     "metadata": {},
     "output_type": "execute_result"
    }
   ],
   "source": [
    "# numpy_02.size() -> 안됨\n",
    "numpy_02.size"
   ]
  },
  {
   "cell_type": "markdown",
   "id": "a82b4597-a138-49eb-b739-9218cbd15685",
   "metadata": {},
   "source": [
    "## 몇차원인지 알고 싶을때"
   ]
  },
  {
   "cell_type": "code",
   "execution_count": 22,
   "id": "b22d35e3-4813-4f7d-a5a7-a1751d00b9fa",
   "metadata": {},
   "outputs": [
    {
     "data": {
      "text/plain": [
       "2"
      ]
     },
     "execution_count": 22,
     "metadata": {},
     "output_type": "execute_result"
    }
   ],
   "source": [
    "ts_02.ndim"
   ]
  }
 ],
 "metadata": {
  "kernelspec": {
   "display_name": "test_venv",
   "language": "python",
   "name": "test_venv"
  },
  "language_info": {
   "codemirror_mode": {
    "name": "ipython",
    "version": 3
   },
   "file_extension": ".py",
   "mimetype": "text/x-python",
   "name": "python",
   "nbconvert_exporter": "python",
   "pygments_lexer": "ipython3",
   "version": "3.13.7"
  }
 },
 "nbformat": 4,
 "nbformat_minor": 5
}

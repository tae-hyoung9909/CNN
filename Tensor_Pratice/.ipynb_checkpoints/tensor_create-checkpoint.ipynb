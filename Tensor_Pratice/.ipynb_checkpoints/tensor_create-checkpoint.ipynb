{
 "cells": [
  {
   "cell_type": "markdown",
   "id": "32df968b-ce1c-42c4-82f2-95832850828b",
   "metadata": {},
   "source": [
    "# tens 생성"
   ]
  },
  {
   "cell_type": "code",
   "execution_count": 1,
   "id": "2c0afb28-fc36-487c-bfd2-b41d54b47224",
   "metadata": {},
   "outputs": [
    {
     "name": "stdout",
     "output_type": "stream",
     "text": [
      "ts_01: torch.Size([3]) ts_02 shape: torch.Size([2, 3]) ts_03 shape: torch.Size([2, 2, 3])\n"
     ]
    }
   ],
   "source": [
    "import numpy as np\n",
    "import torch\n",
    "\n",
    "# 1차원\n",
    "list_01 = [1, 2, 3] #python list\n",
    "ts_01 = torch.tensor(list_01)\n",
    "\n",
    "# 2차원\n",
    "ts_02 = torch.tensor([[1, 2, 3],\n",
    "                      [2, 3, 4]\n",
    "                     ])\n",
    "# 3차원\n",
    "ts_03 = torch.tensor([\n",
    "                      [[1, 2, 3],\n",
    "                       [2, 3, 4]],\n",
    "                      [[3, 4, 5],\n",
    "                       [4, 5, 6]]\n",
    "                     ]) \n",
    "print('ts_01:', ts_01.shape, 'ts_02 shape:', ts_02.shape, 'ts_03 shape:', ts_03.shape) "
   ]
  },
  {
   "cell_type": "markdown",
   "id": "06f04b2d-753e-49d3-8b70-3a7bc41f7d21",
   "metadata": {},
   "source": [
    "[2, 3] -> [행, 열]\n",
    "\n",
    "[2, 2, 3]→[2개, 행, 열]"
   ]
  },
  {
   "cell_type": "code",
   "execution_count": 5,
   "id": "146f20ef-c468-4f13-ae3e-d5e950a4af8b",
   "metadata": {},
   "outputs": [
    {
     "data": {
      "text/plain": [
       "(3,)"
      ]
     },
     "execution_count": 5,
     "metadata": {},
     "output_type": "execute_result"
    }
   ],
   "source": [
    "np.array([1, 2, 3]).shape\n",
    "#np.array([1, 2, 3]).size"
   ]
  },
  {
   "cell_type": "code",
   "execution_count": null,
   "id": "efe46b08-338d-4ade-91b9-dfccc5008505",
   "metadata": {},
   "outputs": [],
   "source": []
  }
 ],
 "metadata": {
  "kernelspec": {
   "display_name": "test_venv",
   "language": "python",
   "name": "test_venv"
  },
  "language_info": {
   "codemirror_mode": {
    "name": "ipython",
    "version": 3
   },
   "file_extension": ".py",
   "mimetype": "text/x-python",
   "name": "python",
   "nbconvert_exporter": "python",
   "pygments_lexer": "ipython3",
   "version": "3.13.7"
  }
 },
 "nbformat": 4,
 "nbformat_minor": 5
}

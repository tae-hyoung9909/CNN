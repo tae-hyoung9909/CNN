{
 "cells": [
  {
   "cell_type": "markdown",
   "id": "93deed76-d002-4158-b4ea-6bd6cbd1977d",
   "metadata": {},
   "source": [
    "# indexing"
   ]
  },
  {
   "cell_type": "code",
   "execution_count": 1,
   "id": "2e0fd77e-bb1e-48bb-9ebc-84c0903b9fb4",
   "metadata": {},
   "outputs": [
    {
     "name": "stdout",
     "output_type": "stream",
     "text": [
      "tensor([[0, 1, 2, 3, 4],\n",
      "        [5, 6, 7, 8, 9]])\n",
      "ts_01[0, 0]: tensor(0) ts_01[0, 1]: tensor(1)\n",
      "ts_01[1, 0]: tensor(5) ts_01[1, 2]: tensor(7)\n",
      "torch.Size([]) 0 torch.Size([5]) 1\n"
     ]
    }
   ],
   "source": [
    "import torch\n",
    "\n",
    "ts_01 = torch.arange(0, 10).view(2, 5)\n",
    "print(ts_01)\n",
    "\n",
    "# 지정 인덱싱 적용\n",
    "print('ts_01[0, 0]:', ts_01[0, 0], 'ts_01[0, 1]:', ts_01[0, 1])\n",
    "print('ts_01[1, 0]:', ts_01[1, 0], 'ts_01[1, 2]:', ts_01[1, 2])\n",
    "print(ts_01[0, 0].shape, ts_01[0, 0].ndim, ts_01[0, :].shape, ts_01[0, :].ndim)"
   ]
  },
  {
   "cell_type": "code",
   "execution_count": 3,
   "id": "d4c4a9b6-1450-4ba9-adf1-0b37221984b7",
   "metadata": {},
   "outputs": [
    {
     "name": "stdout",
     "output_type": "stream",
     "text": [
      "tensor([[0, 1, 2, 3, 4],\n",
      "        [5, 6, 7, 8, 9]])\n",
      "ts_01[0, :]은 tensor([0, 1, 2, 3, 4]) ts_01[:, 0]은 tensor([0, 5])\n",
      "ts_01[0, 0:3]은 tensor([0, 1, 2]) ts_01[1, 1:4]은 tensor([6, 7, 8])\n",
      "ts_01[:, :]\n",
      " tensor([[0, 1, 2, 3, 4],\n",
      "        [5, 6, 7, 8, 9]])\n"
     ]
    }
   ],
   "source": [
    "print(ts_01)\n",
    "print('ts_01[0, :]은', ts_01[0, :], 'ts_01[:, 0]은', ts_01[:, 0]) #1차원\n",
    "print('ts_01[0, 0:3]은', ts_01[0, 0:3], 'ts_01[1, 1:4]은', ts_01[1, 1:4]) #1차원\n",
    "print('ts_01[:, :]\\n', ts_01[:, :])"
   ]
  },
  {
   "cell_type": "code",
   "execution_count": 7,
   "id": "95eca8cc-c581-4ca1-8d80-3a09db92ed2e",
   "metadata": {},
   "outputs": [
    {
     "name": "stdout",
     "output_type": "stream",
     "text": [
      "random_indexes: tensor([1, 4, 4, 1])\n"
     ]
    }
   ],
   "source": [
    "torch.manual_seed(2025)\n",
    "\n",
    "random_indexes = torch.randint(0, 5, size=(4,)) #1차원 4개\n",
    "print('random_indexes:', random_indexes)"
   ]
  },
  {
   "cell_type": "code",
   "execution_count": 8,
   "id": "c1235bb6-9e41-4fed-9ca8-d94769f3904a",
   "metadata": {},
   "outputs": [
    {
     "name": "stdout",
     "output_type": "stream",
     "text": [
      "random_indexes: tensor([1, 4, 4, 1])\n",
      "ts_01:\n",
      " tensor([[0.7470, 0.0215, 0.0654, 0.7855, 0.3883],\n",
      "        [0.6340, 0.9447, 0.4773, 0.2861, 0.3887],\n",
      "        [0.1099, 0.3606, 0.8450, 0.8059, 0.0520],\n",
      "        [0.3438, 0.5326, 0.5318, 0.0709, 0.8716],\n",
      "        [0.6798, 0.2956, 0.9812, 0.9813, 0.8118],\n",
      "        [0.0463, 0.9592, 0.5132, 0.3941, 0.6953],\n",
      "        [0.7350, 0.0309, 0.8294, 0.3368, 0.6413],\n",
      "        [0.6471, 0.5964, 0.9792, 0.8084, 0.9328],\n",
      "        [0.8772, 0.1945, 0.5616, 0.6019, 0.5040],\n",
      "        [0.0028, 0.2127, 0.0655, 0.0905, 0.2134]])\n",
      "ts_01_1:\n",
      " tensor([[0.6340, 0.9447, 0.4773, 0.2861, 0.3887],\n",
      "        [0.6798, 0.2956, 0.9812, 0.9813, 0.8118],\n",
      "        [0.6798, 0.2956, 0.9812, 0.9813, 0.8118],\n",
      "        [0.6340, 0.9447, 0.4773, 0.2861, 0.3887]])\n"
     ]
    }
   ],
   "source": [
    "torch.manual_seed(2025)\n",
    "\n",
    "random_indexes = torch.randint(0, 5, size=(4,)) #1차원 4개\n",
    "print('random_indexes:', random_indexes)\n",
    "\n",
    "ts_01 = torch.rand(size=(10, 5))\n",
    "print('ts_01:\\n', ts_01)\n",
    "\n",
    "ts_01_1 = ts_01[random_indexes] # fancy indexing 적용\n",
    "print('ts_01_1:\\n', ts_01_1)"
   ]
  },
  {
   "cell_type": "code",
   "execution_count": 10,
   "id": "5914eefc-3670-41b5-b4b5-f8939111c121",
   "metadata": {},
   "outputs": [
    {
     "name": "stdout",
     "output_type": "stream",
     "text": [
      "tensor([[ 1,  2,  3,  4,  5],\n",
      "        [ 6,  7,  8,  9, 10]])\n",
      "tensor([[False, False, False, False,  True],\n",
      "        [ True,  True,  True,  True,  True]])\n",
      "tensor([ 5,  6,  7,  8,  9, 10])\n"
     ]
    }
   ],
   "source": [
    "ts_01 = torch.arange(1, 11).view(2, 5)\n",
    "print(ts_01)\n",
    "\n",
    "mask = ts_01 > 4\n",
    "print(mask)\n",
    "print(ts_01[mask]) # pytorch tensor의 boolean indexing은 1차원 tensor를 반환."
   ]
  },
  {
   "cell_type": "code",
   "execution_count": 11,
   "id": "35b0e020-1a3d-44ff-bfdc-8059993637ce",
   "metadata": {},
   "outputs": [
    {
     "data": {
      "text/plain": [
       "tensor([[999, 999, 999, 999,   5],\n",
       "        [  6,   7,   8,   9,  10]])"
      ]
     },
     "execution_count": 11,
     "metadata": {},
     "output_type": "execute_result"
    }
   ],
   "source": [
    "# where는 원본 배열 차원을 보존\n",
    "torch.where(ts_01 > 4, input=ts_01, other=torch.tensor(999))"
   ]
  },
  {
   "cell_type": "code",
   "execution_count": null,
   "id": "4f0ce708-b358-4f0a-8f4c-6f0118934f5f",
   "metadata": {},
   "outputs": [],
   "source": []
  }
 ],
 "metadata": {
  "kernelspec": {
   "display_name": "test_venv",
   "language": "python",
   "name": "test_venv"
  },
  "language_info": {
   "codemirror_mode": {
    "name": "ipython",
    "version": 3
   },
   "file_extension": ".py",
   "mimetype": "text/x-python",
   "name": "python",
   "nbconvert_exporter": "python",
   "pygments_lexer": "ipython3",
   "version": "3.13.7"
  }
 },
 "nbformat": 4,
 "nbformat_minor": 5
}

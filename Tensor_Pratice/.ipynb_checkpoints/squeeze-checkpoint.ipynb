{
 "cells": [
  {
   "cell_type": "markdown",
   "id": "c1e6b7ff-abcf-43f3-9833-5d34463a548a",
   "metadata": {},
   "source": [
    "# squeeze(), unsqueeze()\n",
    "\n",
    "squeeze: 쥐어짜다\n",
    "squeeze(): 1로 되어 있는 차원값을 없앤 tensor 반환\n",
    "\n",
    "1인것만 줄여줌 1이 아니면 그대로 반환"
   ]
  },
  {
   "cell_type": "code",
   "execution_count": 1,
   "id": "76ce6a3f-d65d-4859-b9a4-8a6cb56e5efb",
   "metadata": {},
   "outputs": [
    {
     "name": "stdout",
     "output_type": "stream",
     "text": [
      "tensor([[[0.6850, 0.9355, 0.2900, 0.3991, 0.7470],\n",
      "         [0.0215, 0.0654, 0.7855, 0.3883, 0.6340],\n",
      "         [0.9447, 0.4773, 0.2861, 0.3887, 0.1099],\n",
      "         [0.3606, 0.8450, 0.8059, 0.0520, 0.3438]]])\n",
      "ts_01 shape: torch.Size([1, 4, 5]) ts_01 squeezed shape: torch.Size([4, 5])\n",
      "tensor([[0.6850, 0.9355, 0.2900, 0.3991, 0.7470],\n",
      "        [0.0215, 0.0654, 0.7855, 0.3883, 0.6340],\n",
      "        [0.9447, 0.4773, 0.2861, 0.3887, 0.1099],\n",
      "        [0.3606, 0.8450, 0.8059, 0.0520, 0.3438]])\n"
     ]
    }
   ],
   "source": [
    "import torch\n",
    "torch.manual_seed(2025)\n",
    "\n",
    "ts_01 = torch.rand(size=(1, 4, 5))\n",
    "print(ts_01)\n",
    "\n",
    "ts_01_1 = ts_01.squeeze() #차원값을 줄여줌 (1인것을 없애줌) (1, 4, 5) -> (4, 5)\n",
    "print('ts_01 shape:', ts_01.shape, 'ts_01 squeezed shape:', ts_01_1.shape)\n",
    "print(ts_01_1)"
   ]
  },
  {
   "cell_type": "code",
   "execution_count": 3,
   "id": "27648e46-ded2-49df-befa-50d9c7345eac",
   "metadata": {},
   "outputs": [
    {
     "name": "stdout",
     "output_type": "stream",
     "text": [
      "torch.Size([1, 4, 1]) torch.Size([4, 1]) torch.Size([1, 4]) torch.Size([4])\n"
     ]
    }
   ],
   "source": [
    "# squeeze(dim=0)과 같이 dim 인자 적용\n",
    "ts_01 = torch.rand(size=(1, 4, 1))\n",
    "ts_01_1 = ts_01.squeeze(dim=0)\n",
    "ts_01_2 = ts_01.squeeze(dim=-1)\n",
    "ts_01_3 = ts_01.squeeze(dim=(0, -1)) #2개가 날라감\n",
    "\n",
    "print(ts_01.shape, ts_01_1.shape, ts_01_2.shape, ts_01_3.shape)"
   ]
  },
  {
   "cell_type": "code",
   "execution_count": 4,
   "id": "5e8a22b7-bcc9-41d7-88d1-a0a31dee5b95",
   "metadata": {},
   "outputs": [
    {
     "name": "stdout",
     "output_type": "stream",
     "text": [
      "ts_01 shape: torch.Size([1, 3, 64, 64]) ts_01 squeezed shape: torch.Size([3, 64, 64])\n"
     ]
    }
   ],
   "source": [
    "# 보통은 batch가 포함된 4차원 이미지 tensor에서 batch가 1일 경우 3차원 단일 이미지 tensor로 변환하는데 주로 사용 \n",
    "ts_01 = torch.rand(size=(1, 3, 64, 64))\n",
    "ts_01_1 = ts_01.squeeze(dim=0)\n",
    "print('ts_01 shape:', ts_01.shape, 'ts_01 squeezed shape:', ts_01_1.shape)"
   ]
  },
  {
   "cell_type": "code",
   "execution_count": 6,
   "id": "112c224e-5c0d-4819-a044-c175153d7713",
   "metadata": {},
   "outputs": [
    {
     "name": "stdout",
     "output_type": "stream",
     "text": [
      "tensor([[0.6850, 0.9355, 0.2900, 0.3991, 0.7470],\n",
      "        [0.0215, 0.0654, 0.7855, 0.3883, 0.6340],\n",
      "        [0.9447, 0.4773, 0.2861, 0.3887, 0.1099],\n",
      "        [0.3606, 0.8450, 0.8059, 0.0520, 0.3438]])\n",
      "ts_01 shape: torch.Size([4, 5]) ts_01 unsqueezed shape: torch.Size([1, 4, 5])\n",
      "tensor([[[0.6850, 0.9355, 0.2900, 0.3991, 0.7470],\n",
      "         [0.0215, 0.0654, 0.7855, 0.3883, 0.6340],\n",
      "         [0.9447, 0.4773, 0.2861, 0.3887, 0.1099],\n",
      "         [0.3606, 0.8450, 0.8059, 0.0520, 0.3438]]])\n"
     ]
    }
   ],
   "source": [
    "# unsqueeze\n",
    "torch.manual_seed(2025)\n",
    "\n",
    "ts_01 = torch.rand(size=(4, 5))\n",
    "print(ts_01)\n",
    "\n",
    "ts_01_1 = ts_01.unsqueeze(dim=0) # dim 인자가 반드시 사용되어야 함. \n",
    "print('ts_01 shape:', ts_01.shape, 'ts_01 unsqueezed shape:', ts_01_1.shape)\n",
    "print(ts_01_1) #2차원 -> 3차원"
   ]
  },
  {
   "cell_type": "code",
   "execution_count": 7,
   "id": "bd14f03c-8691-4183-b8de-03a0ebfcc59f",
   "metadata": {},
   "outputs": [
    {
     "name": "stdout",
     "output_type": "stream",
     "text": [
      "ts_01 shape: torch.Size([3, 64, 64]) ts_01 unsqueezed shape: torch.Size([1, 3, 64, 64])\n"
     ]
    }
   ],
   "source": [
    "# 보통은 3차원 단일 이미지 tensor를 batch 포함 4차원 이미지 tensor로 변환 시 자주 사용\n",
    "ts_01 = torch.rand(size=(3, 64, 64))\n",
    "ts_01_1 = ts_01.unsqueeze(dim=0)\n",
    "print('ts_01 shape:', ts_01.shape, 'ts_01 unsqueezed shape:', ts_01_1.shape)"
   ]
  },
  {
   "cell_type": "code",
   "execution_count": null,
   "id": "98dd356d-a45b-498b-9458-8b4e36657af7",
   "metadata": {},
   "outputs": [],
   "source": []
  }
 ],
 "metadata": {
  "kernelspec": {
   "display_name": "test_venv",
   "language": "python",
   "name": "test_venv"
  },
  "language_info": {
   "codemirror_mode": {
    "name": "ipython",
    "version": 3
   },
   "file_extension": ".py",
   "mimetype": "text/x-python",
   "name": "python",
   "nbconvert_exporter": "python",
   "pygments_lexer": "ipython3",
   "version": "3.13.7"
  }
 },
 "nbformat": 4,
 "nbformat_minor": 5
}

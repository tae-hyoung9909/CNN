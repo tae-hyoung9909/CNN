{
 "cells": [
  {
   "cell_type": "markdown",
   "id": "59d5f397-5765-4a0d-b03f-b8c14ac06103",
   "metadata": {},
   "source": [
    "# 데이터 타입 확인 및 변환\n",
    "\n",
    "타입 확인: dtype\n",
    "\n",
    "타입 변환: type()"
   ]
  },
  {
   "cell_type": "code",
   "execution_count": 1,
   "id": "124d4ee5-4a95-4d25-82fa-dab7c522eb56",
   "metadata": {},
   "outputs": [
    {
     "name": "stdout",
     "output_type": "stream",
     "text": [
      "torch.int64\n"
     ]
    }
   ],
   "source": [
    "import torch \n",
    "\n",
    "ts_01 = torch.tensor([1, 2, 3])\n",
    "print(ts_01.dtype) #torch.int64"
   ]
  },
  {
   "cell_type": "code",
   "execution_count": 2,
   "id": "ad4182c0-a029-4a3a-93b4-f4d8dd95ff9d",
   "metadata": {},
   "outputs": [
    {
     "name": "stdout",
     "output_type": "stream",
     "text": [
      "torch.float32\n"
     ]
    }
   ],
   "source": [
    "ts_01 = torch.tensor([1, 2, 3], dtype=torch.float32) #타입 지정\n",
    "print(ts_01.dtype)  # torch.float32"
   ]
  },
  {
   "cell_type": "code",
   "execution_count": 3,
   "id": "841a40ca-f41c-4e68-8283-53f877fcea17",
   "metadata": {},
   "outputs": [
    {
     "name": "stdout",
     "output_type": "stream",
     "text": [
      "torch.int32\n",
      "torch.float32\n"
     ]
    }
   ],
   "source": [
    "ts_01_1 = ts_01.int() #int32로 변환\n",
    "print(ts_01_1.dtype)\n",
    "\n",
    "ts_01_2 = ts_01.float() #float32 변환\n",
    "print(ts_01_2.dtype)"
   ]
  },
  {
   "cell_type": "code",
   "execution_count": 10,
   "id": "ec4191f2-1bbd-42b8-93d4-2342172dc20d",
   "metadata": {},
   "outputs": [
    {
     "name": "stdout",
     "output_type": "stream",
     "text": [
      "torch.int64\n",
      "torch.int8\n"
     ]
    }
   ],
   "source": [
    "ts_01_1 = ts_01.type(torch.int64) #int8/int32\n",
    "print(ts_01_1.dtype)\n",
    "\n",
    "ts_01_2 = ts_01.type(torch.int8) # float32/float64\n",
    "print(ts_01_2.dtype)"
   ]
  },
  {
   "cell_type": "markdown",
   "id": "f1dd8d6b-bf04-4473-963b-5d9dc64b7716",
   "metadata": {},
   "source": [
    "## to()\n",
    "\n",
    "cpu <-> gpu 보낼때도 사용"
   ]
  },
  {
   "cell_type": "code",
   "execution_count": 12,
   "id": "a9baf1cc-c2eb-4e86-8ea1-53b12e867d3f",
   "metadata": {},
   "outputs": [
    {
     "name": "stdout",
     "output_type": "stream",
     "text": [
      "torch.int64\n",
      "torch.int8\n"
     ]
    }
   ],
   "source": [
    "ts_01_1 = ts_01.to(torch.int64)\n",
    "print(ts_01_1.dtype)\n",
    "\n",
    "ts_01_2 = ts_01.to(torch.int8) # float32/float64\n",
    "print(ts_01_2.dtype)"
   ]
  },
  {
   "cell_type": "code",
   "execution_count": 13,
   "id": "fe17dd6e-8e5f-4f3e-8948-61fda7b84402",
   "metadata": {},
   "outputs": [
    {
     "ename": "AssertionError",
     "evalue": "Torch not compiled with CUDA enabled",
     "output_type": "error",
     "traceback": [
      "\u001b[31m---------------------------------------------------------------------------\u001b[39m",
      "\u001b[31mAssertionError\u001b[39m                            Traceback (most recent call last)",
      "\u001b[36mCell\u001b[39m\u001b[36m \u001b[39m\u001b[32mIn[13]\u001b[39m\u001b[32m, line 2\u001b[39m\n\u001b[32m      1\u001b[39m ts_01 = torch.tensor([\u001b[32m1\u001b[39m, \u001b[32m2\u001b[39m])\n\u001b[32m----> \u001b[39m\u001b[32m2\u001b[39m ts_01_1 = \u001b[43mts_01\u001b[49m\u001b[43m.\u001b[49m\u001b[43mto\u001b[49m\u001b[43m(\u001b[49m\u001b[33;43m'\u001b[39;49m\u001b[33;43mcuda\u001b[39;49m\u001b[33;43m'\u001b[39;49m\u001b[43m)\u001b[49m\n\u001b[32m      4\u001b[39m \u001b[38;5;66;03m# 아래는 오류를 발생. device가 cuda에 있는 tensor의 경우 numpy() 메소드를 바로 호출 할 수 없음.\u001b[39;00m\n\u001b[32m      5\u001b[39m arr_01_1 = ts_01_1.numpy() \u001b[38;5;66;03m#  ts_01_1.cpu().numpy()를 호출해야 함. \u001b[39;00m\n",
      "\u001b[36mFile \u001b[39m\u001b[32mE:\\test_venv\\Lib\\site-packages\\torch\\cuda\\__init__.py:403\u001b[39m, in \u001b[36m_lazy_init\u001b[39m\u001b[34m()\u001b[39m\n\u001b[32m    398\u001b[39m     \u001b[38;5;28;01mraise\u001b[39;00m \u001b[38;5;167;01mRuntimeError\u001b[39;00m(\n\u001b[32m    399\u001b[39m         \u001b[33m\"\u001b[39m\u001b[33mCannot re-initialize CUDA in forked subprocess. To use CUDA with \u001b[39m\u001b[33m\"\u001b[39m\n\u001b[32m    400\u001b[39m         \u001b[33m\"\u001b[39m\u001b[33mmultiprocessing, you must use the \u001b[39m\u001b[33m'\u001b[39m\u001b[33mspawn\u001b[39m\u001b[33m'\u001b[39m\u001b[33m start method\u001b[39m\u001b[33m\"\u001b[39m\n\u001b[32m    401\u001b[39m     )\n\u001b[32m    402\u001b[39m \u001b[38;5;28;01mif\u001b[39;00m \u001b[38;5;129;01mnot\u001b[39;00m \u001b[38;5;28mhasattr\u001b[39m(torch._C, \u001b[33m\"\u001b[39m\u001b[33m_cuda_getDeviceCount\u001b[39m\u001b[33m\"\u001b[39m):\n\u001b[32m--> \u001b[39m\u001b[32m403\u001b[39m     \u001b[38;5;28;01mraise\u001b[39;00m \u001b[38;5;167;01mAssertionError\u001b[39;00m(\u001b[33m\"\u001b[39m\u001b[33mTorch not compiled with CUDA enabled\u001b[39m\u001b[33m\"\u001b[39m)\n\u001b[32m    404\u001b[39m \u001b[38;5;28;01mif\u001b[39;00m _cudart \u001b[38;5;129;01mis\u001b[39;00m \u001b[38;5;28;01mNone\u001b[39;00m:\n\u001b[32m    405\u001b[39m     \u001b[38;5;28;01mraise\u001b[39;00m \u001b[38;5;167;01mAssertionError\u001b[39;00m(\n\u001b[32m    406\u001b[39m         \u001b[33m\"\u001b[39m\u001b[33mlibcudart functions unavailable. It looks like you have a broken build?\u001b[39m\u001b[33m\"\u001b[39m\n\u001b[32m    407\u001b[39m     )\n",
      "\u001b[31mAssertionError\u001b[39m: Torch not compiled with CUDA enabled"
     ]
    }
   ],
   "source": [
    "ts_01 = torch.tensor([1, 2])\n",
    "ts_01_1 = ts_01.to('cuda') # 텐서를 gpu에 올림 (gpu가 연결안되있다면 에러)\n",
    "\n",
    "# 아래는 오류를 발생. device가 cuda에 있는 tensor의 경우 numpy() 메소드를 바로 호출 할 수 없음.\n",
    "arr_01_1 = ts_01_1.numpy() #  ts_01_1.cpu().numpy()를 호출해야 함. "
   ]
  },
  {
   "cell_type": "code",
   "execution_count": 15,
   "id": "06275a1b-18f8-4752-817b-8c1d658cb7ec",
   "metadata": {},
   "outputs": [],
   "source": [
    "#gpu에서 cpu로 다시 내릴려면\n",
    "arr_01_1 = ts_01_1.cpu().numpy() "
   ]
  },
  {
   "cell_type": "code",
   "execution_count": 17,
   "id": "d7e2c26f-90f4-413b-bc59-02f7705e6079",
   "metadata": {},
   "outputs": [
    {
     "name": "stdout",
     "output_type": "stream",
     "text": [
      "arr_01: [1 2] ts_01: tensor([1, 2])\n",
      "arr_01: [0 2] ts_01: tensor([0, 2])\n",
      "arr_01: [100   2] ts_01: tensor([100,   2]) ts_02: tensor([0, 2])\n"
     ]
    }
   ],
   "source": [
    "import numpy as np\n",
    "\n",
    "# tensor.from_numpy(array) 수행 시 생성된 tensor는 입력된 array와 메모리를 공유\n",
    "# 입력 array가 변경될 경우 tensor도 같이 변경됨.\n",
    "arr_01 = np.array([1, 2])\n",
    "ts_01 = torch.from_numpy(arr_01)\n",
    "print('arr_01:', arr_01, 'ts_01:', ts_01)\n",
    "\n",
    "arr_01[0] = 0\n",
    "print('arr_01:', arr_01, 'ts_01:', ts_01)\n",
    "\n",
    "# 메모리 공유 막는법\n",
    "# clone() 을 사용하여 tensor를 복제\n",
    "ts_02 = ts_01.clone()\n",
    "arr_01[0] = 100\n",
    "print('arr_01:', arr_01, 'ts_01:', ts_01, 'ts_02:', ts_02)"
   ]
  },
  {
   "cell_type": "code",
   "execution_count": null,
   "id": "90e31bfd-e76b-410a-824e-ba348ba9013a",
   "metadata": {},
   "outputs": [],
   "source": []
  }
 ],
 "metadata": {
  "kernelspec": {
   "display_name": "test_venv",
   "language": "python",
   "name": "test_venv"
  },
  "language_info": {
   "codemirror_mode": {
    "name": "ipython",
    "version": 3
   },
   "file_extension": ".py",
   "mimetype": "text/x-python",
   "name": "python",
   "nbconvert_exporter": "python",
   "pygments_lexer": "ipython3",
   "version": "3.13.7"
  }
 },
 "nbformat": 4,
 "nbformat_minor": 5
}

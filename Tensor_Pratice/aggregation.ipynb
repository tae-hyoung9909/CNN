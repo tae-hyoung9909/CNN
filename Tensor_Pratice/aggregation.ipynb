{
 "cells": [
  {
   "cell_type": "markdown",
   "id": "0da5ad85-fa94-4ba3-b589-2af5144da6fb",
   "metadata": {},
   "source": [
    "# sum, max, min, mean등의 aggregation"
   ]
  },
  {
   "cell_type": "code",
   "execution_count": 1,
   "id": "86a9b57b-6812-400f-aacb-b801e5621a13",
   "metadata": {},
   "outputs": [],
   "source": [
    "import torch"
   ]
  },
  {
   "cell_type": "code",
   "execution_count": 8,
   "id": "251a6d8a-04ec-4620-8691-354d60c20e10",
   "metadata": {},
   "outputs": [
    {
     "name": "stdout",
     "output_type": "stream",
     "text": [
      "tensor(9)\n",
      "tensor([[0, 1, 2, 3, 4],\n",
      "        [5, 6, 7, 8, 9]])\n"
     ]
    }
   ],
   "source": [
    "ts_01 = torch.arange(10).view(2, 5)\n",
    "print(ts_01.max())\n",
    "print(ts_01)"
   ]
  },
  {
   "cell_type": "code",
   "execution_count": 10,
   "id": "e1635aeb-1a87-4397-9069-8af53e9265c9",
   "metadata": {},
   "outputs": [
    {
     "name": "stdout",
     "output_type": "stream",
     "text": [
      "total sum: tensor(45)\n",
      "sum along dim=0: tensor([ 5,  7,  9, 11, 13])\n",
      "sum along dim=1: tensor([10, 35])\n"
     ]
    }
   ],
   "source": [
    "print('total sum:', ts_01.sum())\n",
    "print('sum along dim=0:', ts_01.sum(dim=0)) #dim0 방향으로 sum (아래 방향으로 합계) (열끼리 합)\n",
    "print('sum along dim=1:', ts_01.sum(dim=1)) #dim1 방향으로 sum (가로(행) 방향으로 합계)"
   ]
  },
  {
   "cell_type": "code",
   "execution_count": 11,
   "id": "2a75edd0-2c9f-42d0-862d-176bb7f296c4",
   "metadata": {},
   "outputs": [
    {
     "name": "stdout",
     "output_type": "stream",
     "text": [
      "max overall: tensor(9)\n",
      "max along dim=0: torch.return_types.max(\n",
      "values=tensor([5, 6, 7, 8, 9]),\n",
      "indices=tensor([1, 1, 1, 1, 1]))\n",
      "max along dim=1: torch.return_types.max(\n",
      "values=tensor([4, 9]),\n",
      "indices=tensor([4, 4]))\n"
     ]
    }
   ],
   "source": [
    "print('max overall:', ts_01.max())\n",
    "print('max along dim=0:', ts_01.max(dim=0))# max값과 max가 위치한 index값을 함께 반환. \n",
    "print('max along dim=1:', ts_01.max(dim=1))"
   ]
  },
  {
   "cell_type": "code",
   "execution_count": 12,
   "id": "ad44a31e-96d0-4eb6-bada-bfe3b3d7bb11",
   "metadata": {},
   "outputs": [
    {
     "name": "stdout",
     "output_type": "stream",
     "text": [
      "overall mean: tensor(4.5000, dtype=torch.float64)\n",
      "mean along dim=0: tensor([2.5000, 3.5000, 4.5000, 5.5000, 6.5000], dtype=torch.float64)\n",
      "mean along dim=1: tensor([2., 7.], dtype=torch.float64)\n"
     ]
    }
   ],
   "source": [
    "print('overall mean:', ts_01.mean(dtype=torch.float64))\n",
    "print('mean along dim=0:', ts_01.mean(dim=0, dtype=torch.float64))\n",
    "print('mean along dim=1:', ts_01.mean(dim=1, dtype=torch.float64))"
   ]
  },
  {
   "cell_type": "code",
   "execution_count": 13,
   "id": "99041d34-fcf5-4716-9ede-2d0078193266",
   "metadata": {},
   "outputs": [
    {
     "name": "stdout",
     "output_type": "stream",
     "text": [
      "min overall: tensor(0)\n",
      "min along dim=0: torch.return_types.min(\n",
      "values=tensor([0, 1, 2, 3, 4]),\n",
      "indices=tensor([0, 0, 0, 0, 0]))\n",
      "min along dim=1: torch.return_types.min(\n",
      "values=tensor([0, 5]),\n",
      "indices=tensor([0, 0]))\n"
     ]
    }
   ],
   "source": [
    "print('min overall:', ts_01.min())\n",
    "print('min along dim=0:', ts_01.min(dim=0))# min값과 min이 위치한 index값을 함께 반환. \n",
    "print('min along dim=1:', ts_01.min(dim=1))"
   ]
  },
  {
   "cell_type": "code",
   "execution_count": 14,
   "id": "ba445cb9-b38f-4fba-8a5b-d06f3b89f344",
   "metadata": {},
   "outputs": [
    {
     "name": "stdout",
     "output_type": "stream",
     "text": [
      "tensor([[[ 0,  1,  2,  3],\n",
      "         [ 4,  5,  6,  7],\n",
      "         [ 8,  9, 10, 11]],\n",
      "\n",
      "        [[12, 13, 14, 15],\n",
      "         [16, 17, 18, 19],\n",
      "         [20, 21, 22, 23]]])\n"
     ]
    }
   ],
   "source": [
    "# 3차원일때\n",
    "\n",
    "ts_02 = torch.arange(24).reshape(2, 3, 4)\n",
    "print(ts_02)"
   ]
  },
  {
   "cell_type": "code",
   "execution_count": 15,
   "id": "ea047bfd-701f-4d81-a5f8-01747a02632c",
   "metadata": {},
   "outputs": [
    {
     "name": "stdout",
     "output_type": "stream",
     "text": [
      "total sum: tensor(276)\n",
      "sum along dim=0:\n",
      " tensor([[12, 14, 16, 18],\n",
      "        [20, 22, 24, 26],\n",
      "        [28, 30, 32, 34]])\n",
      "sum along dim=1:\n",
      " tensor([[12, 15, 18, 21],\n",
      "        [48, 51, 54, 57]])\n",
      "sum along dim=2:\n",
      " tensor([[ 6, 22, 38],\n",
      "        [54, 70, 86]])\n",
      "sum along dim=-1:\n",
      " tensor([[ 6, 22, 38],\n",
      "        [54, 70, 86]])\n"
     ]
    }
   ],
   "source": [
    "print('total sum:', ts_02.sum())\n",
    "print('sum along dim=0:\\n', ts_02.sum(dim=0))\n",
    "print('sum along dim=1:\\n', ts_02.sum(dim=1))\n",
    "print('sum along dim=2:\\n', ts_02.sum(dim=2))\n",
    "print('sum along dim=-1:\\n', ts_02.sum(dim=-1))"
   ]
  },
  {
   "cell_type": "markdown",
   "id": "d79a3d6c-94f0-485d-8616-c0b61de7a126",
   "metadata": {},
   "source": [
    "dim= -1는 dim 끝과 같다"
   ]
  },
  {
   "cell_type": "code",
   "execution_count": 16,
   "id": "5aeaf705-08e5-4fae-803c-a343324db59b",
   "metadata": {},
   "outputs": [
    {
     "name": "stdout",
     "output_type": "stream",
     "text": [
      "tensor([[[ 0,  1,  2,  3],\n",
      "         [ 4,  5,  6,  7],\n",
      "         [ 8,  9, 10, 11]],\n",
      "\n",
      "        [[12, 13, 14, 15],\n",
      "         [16, 17, 18, 19],\n",
      "         [20, 21, 22, 23]]])\n",
      "sum along dim=(1, 2):\n",
      " tensor([ 66, 210])\n",
      "sum along dim=(2, 1):\n",
      " tensor([ 66, 210])\n"
     ]
    }
   ],
   "source": [
    "# dim 2개 일때 (잘 안씀)\n",
    "print(ts_02)\n",
    "print('sum along dim=(1, 2):\\n', ts_02.sum(dim=(1, 2)))\n",
    "print('sum along dim=(2, 1):\\n', ts_02.sum(dim=(2, 1)))"
   ]
  },
  {
   "cell_type": "code",
   "execution_count": null,
   "id": "fd1505e3-d2ee-40d5-880b-34c427008900",
   "metadata": {},
   "outputs": [],
   "source": []
  }
 ],
 "metadata": {
  "kernelspec": {
   "display_name": "test_venv",
   "language": "python",
   "name": "test_venv"
  },
  "language_info": {
   "codemirror_mode": {
    "name": "ipython",
    "version": 3
   },
   "file_extension": ".py",
   "mimetype": "text/x-python",
   "name": "python",
   "nbconvert_exporter": "python",
   "pygments_lexer": "ipython3",
   "version": "3.13.7"
  }
 },
 "nbformat": 4,
 "nbformat_minor": 5
}

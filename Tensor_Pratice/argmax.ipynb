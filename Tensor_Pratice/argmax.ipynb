{
 "cells": [
  {
   "cell_type": "markdown",
   "id": "cdb24135-7754-402e-9d36-faebfeade6d6",
   "metadata": {},
   "source": [
    "# argmax()\n",
    "\n",
    "max() 가장 큰값을 반환하지만, argmax()는 가장 큰값을 가진 index를 반환"
   ]
  },
  {
   "cell_type": "code",
   "execution_count": 1,
   "id": "8a4487ff-c262-4159-90b4-f2c4b814e2f8",
   "metadata": {},
   "outputs": [
    {
     "name": "stdout",
     "output_type": "stream",
     "text": [
      "tensor([0.6850, 0.9355, 0.2900, 0.3991, 0.7470, 0.0215, 0.0654, 0.7855, 0.3883,\n",
      "        0.6340])\n",
      "tensor(0.9355) tensor(1)\n"
     ]
    }
   ],
   "source": [
    "import torch\n",
    "torch.manual_seed(2025)  # random 수행 시 마다 동일 값 생성을 위한 seed값 할당. \n",
    "\n",
    "ts_01 = torch.rand(size=(10,))\n",
    "print(ts_01)\n",
    "print(ts_01.max(), ts_01.argmax())"
   ]
  },
  {
   "cell_type": "code",
   "execution_count": 6,
   "id": "b944a717-592d-4085-b2eb-325c8eb1a091",
   "metadata": {},
   "outputs": [
    {
     "name": "stdout",
     "output_type": "stream",
     "text": [
      "tensor([[0.6850, 0.9355, 0.2900, 0.3991, 0.7470],\n",
      "        [0.0215, 0.0654, 0.7855, 0.3883, 0.6340],\n",
      "        [0.9447, 0.4773, 0.2861, 0.3887, 0.1099],\n",
      "        [0.3606, 0.8450, 0.8059, 0.0520, 0.3438]])\n",
      "tensor([1, 2, 0, 1])\n"
     ]
    }
   ],
   "source": [
    "torch.manual_seed(2025)\n",
    "\n",
    "ts_01 = torch.rand(size=(4, 5))\n",
    "print(ts_01)\n",
    "print(ts_01.argmax(dim=-1)) #-1는 끝이므로 여기선 dim=1 방향으로 max"
   ]
  },
  {
   "cell_type": "code",
   "execution_count": 7,
   "id": "f17a06a9-3edc-4a8b-a18c-fbeeed9a4bab",
   "metadata": {},
   "outputs": [
    {
     "name": "stdout",
     "output_type": "stream",
     "text": [
      "torch.return_types.max(\n",
      "values=tensor([0.9355, 0.7855, 0.9447, 0.8450]),\n",
      "indices=tensor([1, 2, 0, 1]))\n"
     ]
    }
   ],
   "source": [
    "# dim값이 입력된 max()는 max값과 max위치의 index를 반환\n",
    "print(ts_01.max(dim=-1))"
   ]
  },
  {
   "cell_type": "code",
   "execution_count": 8,
   "id": "7e2a1224-9911-4722-993f-8bca9f5c53b4",
   "metadata": {},
   "outputs": [
    {
     "name": "stdout",
     "output_type": "stream",
     "text": [
      "tensor([1, 2, 0, 1])\n",
      "tensor([2, 0, 3, 0, 0])\n"
     ]
    }
   ],
   "source": [
    "_, val_index = ts_01.max(dim=-1)\n",
    "print( val_index)\n",
    "print(ts_01.argmax(dim=0))"
   ]
  },
  {
   "cell_type": "code",
   "execution_count": null,
   "id": "c0fd7218-e5d4-4dd4-88fa-b28ddb09b037",
   "metadata": {},
   "outputs": [],
   "source": []
  }
 ],
 "metadata": {
  "kernelspec": {
   "display_name": "test_venv",
   "language": "python",
   "name": "test_venv"
  },
  "language_info": {
   "codemirror_mode": {
    "name": "ipython",
    "version": 3
   },
   "file_extension": ".py",
   "mimetype": "text/x-python",
   "name": "python",
   "nbconvert_exporter": "python",
   "pygments_lexer": "ipython3",
   "version": "3.13.7"
  }
 },
 "nbformat": 4,
 "nbformat_minor": 5
}

{
 "cells": [
  {
   "cell_type": "markdown",
   "id": "e34b0f1c-bbab-4acc-9e41-f72d8a9fa59e",
   "metadata": {},
   "source": [
    "# item()\n",
    "\n",
    "tensor가 값을 1개만 가지고 있다면 이값은 python scalar 값으로 반환\n",
    "\n",
    "1차원 tensor에 값이 하나만 있거나 tensor가 scalar type일 경우만 item() 가능"
   ]
  },
  {
   "cell_type": "code",
   "execution_count": 2,
   "id": "cab01de0-a832-48fb-b9ef-136a913eea60",
   "metadata": {},
   "outputs": [
    {
     "name": "stdout",
     "output_type": "stream",
     "text": [
      "torch.int64 torch.Size([1]) 1\n",
      "ts_01 item(): 1\n",
      "torch.int64 torch.Size([]) 0\n",
      "ts_02 item(): 1\n"
     ]
    }
   ],
   "source": [
    "import torch\n",
    "\n",
    "ts_01 = torch.tensor([1])\n",
    "print(ts_01.dtype, ts_01.shape, ts_01.ndim)\n",
    "print('ts_01 item():', ts_01.item())\n",
    "\n",
    "ts_02 = torch.tensor(1) #scalar  \n",
    "print(ts_02.dtype, ts_02.shape, ts_02.ndim) #ndim 0 -> 차원이 없\n",
    "print('ts_02 item():', ts_02.item())"
   ]
  },
  {
   "cell_type": "code",
   "execution_count": 4,
   "id": "a0f7ae28-0439-4cc3-ae19-b1b0a33f2fba",
   "metadata": {},
   "outputs": [
    {
     "name": "stdout",
     "output_type": "stream",
     "text": [
      "<class 'int'>\n"
     ]
    }
   ],
   "source": [
    "print(type(ts_02.item()))"
   ]
  },
  {
   "cell_type": "code",
   "execution_count": 3,
   "id": "e1e481d4-8e8a-4b04-a185-2c8eee8cbd29",
   "metadata": {},
   "outputs": [
    {
     "name": "stdout",
     "output_type": "stream",
     "text": [
      "torch.int64 torch.Size([2]) 1\n"
     ]
    },
    {
     "ename": "RuntimeError",
     "evalue": "a Tensor with 2 elements cannot be converted to Scalar",
     "output_type": "error",
     "traceback": [
      "\u001b[31m---------------------------------------------------------------------------\u001b[39m",
      "\u001b[31mRuntimeError\u001b[39m                              Traceback (most recent call last)",
      "\u001b[36mCell\u001b[39m\u001b[36m \u001b[39m\u001b[32mIn[3]\u001b[39m\u001b[32m, line 4\u001b[39m\n\u001b[32m      2\u001b[39m ts_01 = torch.tensor([\u001b[32m1\u001b[39m, \u001b[32m2\u001b[39m])\n\u001b[32m      3\u001b[39m \u001b[38;5;28mprint\u001b[39m(ts_01.dtype, ts_01.shape, ts_01.ndim)\n\u001b[32m----> \u001b[39m\u001b[32m4\u001b[39m \u001b[38;5;28mprint\u001b[39m(\u001b[33m'\u001b[39m\u001b[33mts_01 item():\u001b[39m\u001b[33m'\u001b[39m, \u001b[43mts_01\u001b[49m\u001b[43m.\u001b[49m\u001b[43mitem\u001b[49m\u001b[43m(\u001b[49m\u001b[43m)\u001b[49m)\n",
      "\u001b[31mRuntimeError\u001b[39m: a Tensor with 2 elements cannot be converted to Scalar"
     ]
    }
   ],
   "source": [
    "# 아래는 1차원 이지만 값이 2개 이상이므로 item() 호출 시 오류 발생. \n",
    "ts_01 = torch.tensor([1, 2])\n",
    "print(ts_01.dtype, ts_01.shape, ts_01.ndim)\n",
    "print('ts_01 item():', ts_01.item())"
   ]
  },
  {
   "cell_type": "code",
   "execution_count": null,
   "id": "00f300f4-95bf-450d-9292-8ad403cb760d",
   "metadata": {},
   "outputs": [],
   "source": []
  }
 ],
 "metadata": {
  "kernelspec": {
   "display_name": "test_venv",
   "language": "python",
   "name": "test_venv"
  },
  "language_info": {
   "codemirror_mode": {
    "name": "ipython",
    "version": 3
   },
   "file_extension": ".py",
   "mimetype": "text/x-python",
   "name": "python",
   "nbconvert_exporter": "python",
   "pygments_lexer": "ipython3",
   "version": "3.13.7"
  }
 },
 "nbformat": 4,
 "nbformat_minor": 5
}

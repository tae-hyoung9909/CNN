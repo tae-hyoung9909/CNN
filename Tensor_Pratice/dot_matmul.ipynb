{
 "cells": [
  {
   "cell_type": "markdown",
   "id": "dfac2300-88ed-4768-a267-b471e893f2f4",
   "metadata": {},
   "source": [
    "# dot(), matmul()\n",
    "\n",
    "내적과 행렬곱 연산\n",
    "\n",
    "dot()은 1차원 tensor만 가능\n",
    "\n",
    "matmul()dms 1-2차원 tensor간 행렬곱\n",
    "\n",
    "matmul()의 경우 3차원 이상의 tensor가 입력될 경우 맨 뒤의 2개 차원을 행렬로, 앞의 차원들은 batch로 간주하고 행렬곱 연산 수행"
   ]
  },
  {
   "cell_type": "code",
   "execution_count": 1,
   "id": "20f80bb9-f58f-4ae3-b5a7-57a100500edc",
   "metadata": {},
   "outputs": [
    {
     "name": "stdout",
     "output_type": "stream",
     "text": [
      "ts_01: tensor([1, 2, 3]) ts_02: tensor([4, 5, 6])\n",
      "ts_03: tensor(32)\n"
     ]
    }
   ],
   "source": [
    "import torch \n",
    "\n",
    "ts_01 = torch.arange(1, 4)\n",
    "ts_02 = torch.arange(4, 7)\n",
    "print('ts_01:', ts_01, 'ts_02:', ts_02)\n",
    "\n",
    "ts_03 = torch.dot(ts_01, ts_02) # dot()연산은 1차원끼리만 가능. \n",
    "print('ts_03:', ts_03)"
   ]
  },
  {
   "cell_type": "code",
   "execution_count": 2,
   "id": "662354ea-39ca-4a78-af0e-75dde21f99bc",
   "metadata": {},
   "outputs": [
    {
     "name": "stdout",
     "output_type": "stream",
     "text": [
      "ts_01:\n",
      " tensor([[1, 2, 3],\n",
      "        [4, 5, 6]]) \n",
      " ts_02:\n",
      " tensor([[ 7,  8],\n",
      "        [ 9, 10],\n",
      "        [11, 12]])\n",
      "ts_03:\n",
      " tensor([[ 58,  64],\n",
      "        [139, 154]])\n"
     ]
    }
   ],
   "source": [
    "ts_01 = torch.arange(1, 7).view(2, 3)\n",
    "ts_02 = torch.arange(7, 13).view(3, 2)\n",
    "print('ts_01:\\n', ts_01, '\\n', 'ts_02:\\n', ts_02)\n",
    "\n",
    "ts_03 = torch.matmul(ts_01, ts_02) # 2차원 행렬 곱 연산 수행\n",
    "print('ts_03:\\n', ts_03)"
   ]
  },
  {
   "cell_type": "code",
   "execution_count": 3,
   "id": "3cb14585-2e9f-4460-8ca2-5f2eefc0110c",
   "metadata": {},
   "outputs": [
    {
     "name": "stdout",
     "output_type": "stream",
     "text": [
      "ts_01:\n",
      " tensor([[[ 0,  1,  2,  3],\n",
      "         [ 4,  5,  6,  7],\n",
      "         [ 8,  9, 10, 11]],\n",
      "\n",
      "        [[12, 13, 14, 15],\n",
      "         [16, 17, 18, 19],\n",
      "         [20, 21, 22, 23]]]) \n",
      " ts_02:\n",
      " tensor([[[ 0,  1,  2,  3,  4],\n",
      "         [ 5,  6,  7,  8,  9],\n",
      "         [10, 11, 12, 13, 14],\n",
      "         [15, 16, 17, 18, 19]],\n",
      "\n",
      "        [[20, 21, 22, 23, 24],\n",
      "         [25, 26, 27, 28, 29],\n",
      "         [30, 31, 32, 33, 34],\n",
      "         [35, 36, 37, 38, 39]]])\n",
      "ts_03:\n",
      " tensor([[[  70,   76,   82,   88,   94],\n",
      "         [ 190,  212,  234,  256,  278],\n",
      "         [ 310,  348,  386,  424,  462]],\n",
      "\n",
      "        [[1510, 1564, 1618, 1672, 1726],\n",
      "         [1950, 2020, 2090, 2160, 2230],\n",
      "         [2390, 2476, 2562, 2648, 2734]]])\n",
      "torch.Size([2, 3, 5])\n"
     ]
    }
   ],
   "source": [
    "# 3차원 이상의 행렬 곱. batch size는 서로 동일해야 함. 단 둘중 한개가 batch size 1인 경우는 상관 없음. \n",
    "ts_01 = torch.arange(0, 24).view(2, 3, 4) # batch size 2를 가지는 3x4 행렬\n",
    "ts_02 = torch.arange(0, 40).view(2, 4, 5)  # batch size 2을 가지는 4x5 행렬\n",
    "print('ts_01:\\n', ts_01, '\\n', 'ts_02:\\n', ts_02)\n",
    "\n",
    "ts_03 = torch.matmul(ts_01, ts_02)  # 맨 앞차원은 배치로 간주하고 뒤 차원 2개를 행렬 곱 연산 수행. \n",
    "print('ts_03:\\n', ts_03)\n",
    "print(ts_03.shape) # 출력 shape는 (2, 3, 5)"
   ]
  },
  {
   "cell_type": "code",
   "execution_count": 5,
   "id": "318f8be2-1230-4640-af53-0875b48e31f4",
   "metadata": {},
   "outputs": [
    {
     "name": "stdout",
     "output_type": "stream",
     "text": [
      "ts_01:\n",
      " tensor([[[ 0,  1,  2,  3],\n",
      "         [ 4,  5,  6,  7],\n",
      "         [ 8,  9, 10, 11]],\n",
      "\n",
      "        [[12, 13, 14, 15],\n",
      "         [16, 17, 18, 19],\n",
      "         [20, 21, 22, 23]]]) \n",
      " ts_02:\n",
      " tensor([[[ 0,  1,  2,  3,  4],\n",
      "         [ 5,  6,  7,  8,  9],\n",
      "         [10, 11, 12, 13, 14],\n",
      "         [15, 16, 17, 18, 19]],\n",
      "\n",
      "        [[20, 21, 22, 23, 24],\n",
      "         [25, 26, 27, 28, 29],\n",
      "         [30, 31, 32, 33, 34],\n",
      "         [35, 36, 37, 38, 39]],\n",
      "\n",
      "        [[40, 41, 42, 43, 44],\n",
      "         [45, 46, 47, 48, 49],\n",
      "         [50, 51, 52, 53, 54],\n",
      "         [55, 56, 57, 58, 59]]])\n"
     ]
    },
    {
     "ename": "RuntimeError",
     "evalue": "The size of tensor a (2) must match the size of tensor b (3) at non-singleton dimension 0",
     "output_type": "error",
     "traceback": [
      "\u001b[31m---------------------------------------------------------------------------\u001b[39m",
      "\u001b[31mRuntimeError\u001b[39m                              Traceback (most recent call last)",
      "\u001b[36mCell\u001b[39m\u001b[36m \u001b[39m\u001b[32mIn[5]\u001b[39m\u001b[32m, line 7\u001b[39m\n\u001b[32m      4\u001b[39m ts_02 = torch.arange(\u001b[32m0\u001b[39m, \u001b[32m60\u001b[39m).view(\u001b[32m3\u001b[39m, \u001b[32m4\u001b[39m, \u001b[32m5\u001b[39m)  \u001b[38;5;66;03m# batch size=3을 가지는 4x5 행렬\u001b[39;00m\n\u001b[32m      5\u001b[39m \u001b[38;5;28mprint\u001b[39m(\u001b[33m'\u001b[39m\u001b[33mts_01:\u001b[39m\u001b[38;5;130;01m\\n\u001b[39;00m\u001b[33m'\u001b[39m, ts_01, \u001b[33m'\u001b[39m\u001b[38;5;130;01m\\n\u001b[39;00m\u001b[33m'\u001b[39m, \u001b[33m'\u001b[39m\u001b[33mts_02:\u001b[39m\u001b[38;5;130;01m\\n\u001b[39;00m\u001b[33m'\u001b[39m, ts_02)\n\u001b[32m----> \u001b[39m\u001b[32m7\u001b[39m ts_03 = \u001b[43mtorch\u001b[49m\u001b[43m.\u001b[49m\u001b[43mmatmul\u001b[49m\u001b[43m(\u001b[49m\u001b[43mts_01\u001b[49m\u001b[43m,\u001b[49m\u001b[43m \u001b[49m\u001b[43mts_02\u001b[49m\u001b[43m)\u001b[49m  \u001b[38;5;66;03m# 맨 앞차원은 배치로 간주하고 뒤 차원 2개를 행렬 곱 연산 수행. \u001b[39;00m\n\u001b[32m      8\u001b[39m \u001b[38;5;28mprint\u001b[39m(ts_03)\n\u001b[32m      9\u001b[39m \u001b[38;5;28mprint\u001b[39m(ts_03.shape)\n",
      "\u001b[31mRuntimeError\u001b[39m: The size of tensor a (2) must match the size of tensor b (3) at non-singleton dimension 0"
     ]
    }
   ],
   "source": [
    "# batch가 달라 에러\n",
    "# batch size는 서로 동일해야 함. 단 둘중 한개가 batch size 1인 경우는 상관 없음.\n",
    "ts_01 = torch.arange(0, 24).view(2, 3, 4) # batch size 2를 가지는 3x4 행렬\n",
    "ts_02 = torch.arange(0, 60).view(3, 4, 5)  # batch size=3을 가지는 4x5 행렬\n",
    "print('ts_01:\\n', ts_01, '\\n', 'ts_02:\\n', ts_02)\n",
    "\n",
    "ts_03 = torch.matmul(ts_01, ts_02)  # 맨 앞차원은 배치로 간주하고 뒤 차원 2개를 행렬 곱 연산 수행. \n",
    "print(ts_03)\n",
    "print(ts_03.shape)"
   ]
  },
  {
   "cell_type": "code",
   "execution_count": 6,
   "id": "9042d025-87fe-42be-bb27-e73a1743197a",
   "metadata": {},
   "outputs": [
    {
     "name": "stdout",
     "output_type": "stream",
     "text": [
      "ts_01:\n",
      " tensor([[[ 0,  1,  2,  3],\n",
      "         [ 4,  5,  6,  7],\n",
      "         [ 8,  9, 10, 11]]]) \n",
      " ts_02:\n",
      " tensor([[[ 0,  1,  2,  3,  4],\n",
      "         [ 5,  6,  7,  8,  9],\n",
      "         [10, 11, 12, 13, 14],\n",
      "         [15, 16, 17, 18, 19]],\n",
      "\n",
      "        [[20, 21, 22, 23, 24],\n",
      "         [25, 26, 27, 28, 29],\n",
      "         [30, 31, 32, 33, 34],\n",
      "         [35, 36, 37, 38, 39]],\n",
      "\n",
      "        [[40, 41, 42, 43, 44],\n",
      "         [45, 46, 47, 48, 49],\n",
      "         [50, 51, 52, 53, 54],\n",
      "         [55, 56, 57, 58, 59]]])\n",
      "tensor([[[  70,   76,   82,   88,   94],\n",
      "         [ 190,  212,  234,  256,  278],\n",
      "         [ 310,  348,  386,  424,  462]],\n",
      "\n",
      "        [[ 190,  196,  202,  208,  214],\n",
      "         [ 630,  652,  674,  696,  718],\n",
      "         [1070, 1108, 1146, 1184, 1222]],\n",
      "\n",
      "        [[ 310,  316,  322,  328,  334],\n",
      "         [1070, 1092, 1114, 1136, 1158],\n",
      "         [1830, 1868, 1906, 1944, 1982]]])\n",
      "torch.Size([3, 3, 5])\n"
     ]
    }
   ],
   "source": [
    "# 배치가 달라도 하나가 1이라면 1이 큰값에 맞춰짐\n",
    "# batch size는 서로 동일해야 함. 단 둘중 한개가 batch size 1인 경우는 상관 없음.\n",
    "ts_01 = torch.arange(0, 12).view(1, 3, 4) # batch size 2를 가지는 3x4 행렬\n",
    "ts_02 = torch.arange(0, 60).view(3, 4, 5)  # batch size=3을 가지는 4x5 행렬\n",
    "print('ts_01:\\n', ts_01, '\\n', 'ts_02:\\n', ts_02)\n",
    "\n",
    "ts_03 = torch.matmul(ts_01, ts_02)  # 맨 앞차원은 배치로 간주하고 뒤 차원 2개를 행렬 곱 연산 수행. \n",
    "print(ts_03)\n",
    "print(ts_03.shape)"
   ]
  },
  {
   "cell_type": "code",
   "execution_count": null,
   "id": "508b6384-dba8-47e0-bc58-c95d91444c28",
   "metadata": {},
   "outputs": [],
   "source": []
  }
 ],
 "metadata": {
  "kernelspec": {
   "display_name": "test_venv",
   "language": "python",
   "name": "test_venv"
  },
  "language_info": {
   "codemirror_mode": {
    "name": "ipython",
    "version": 3
   },
   "file_extension": ".py",
   "mimetype": "text/x-python",
   "name": "python",
   "nbconvert_exporter": "python",
   "pygments_lexer": "ipython3",
   "version": "3.13.7"
  }
 },
 "nbformat": 4,
 "nbformat_minor": 5
}

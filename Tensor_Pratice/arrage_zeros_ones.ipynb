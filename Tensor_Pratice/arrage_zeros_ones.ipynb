{
 "cells": [
  {
   "cell_type": "markdown",
   "id": "f3dc2197-ba54-442c-b70b-fa8fefac4263",
   "metadata": {},
   "source": [
    "# arrange"
   ]
  },
  {
   "cell_type": "code",
   "execution_count": 1,
   "id": "700a0dca-cb7b-4eed-a85c-5731f10e87d0",
   "metadata": {},
   "outputs": [],
   "source": [
    "import torch"
   ]
  },
  {
   "cell_type": "code",
   "execution_count": 2,
   "id": "1fd86972-5a80-43b3-aa43-a689ac7ab8df",
   "metadata": {},
   "outputs": [
    {
     "name": "stdout",
     "output_type": "stream",
     "text": [
      "tensor([0, 1, 2, 3, 4, 5, 6, 7, 8, 9])\n",
      "torch.int64 torch.Size([10])\n"
     ]
    }
   ],
   "source": [
    "seq_ts = torch.arange(10)\n",
    "print(seq_ts)\n",
    "print(seq_ts.dtype, seq_ts.shape)"
   ]
  },
  {
   "cell_type": "markdown",
   "id": "d719370f-0ecf-4650-8410-7a92ec822b19",
   "metadata": {},
   "source": [
    "# zeros"
   ]
  },
  {
   "cell_type": "code",
   "execution_count": 6,
   "id": "f1b7568c-b31d-4b77-be27-12569570c9b1",
   "metadata": {},
   "outputs": [
    {
     "data": {
      "text/plain": [
       "tensor([[0., 0.],\n",
       "        [0., 0.],\n",
       "        [0., 0.]])"
      ]
     },
     "execution_count": 6,
     "metadata": {},
     "output_type": "execute_result"
    }
   ],
   "source": [
    "torch.zeros(size=(3, 2))"
   ]
  },
  {
   "cell_type": "code",
   "execution_count": 13,
   "id": "27723d9f-0fb0-49c7-b886-3b680b1f4565",
   "metadata": {},
   "outputs": [
    {
     "data": {
      "text/plain": [
       "tensor([[0., 0.],\n",
       "        [0., 0.],\n",
       "        [0., 0.]])"
      ]
     },
     "execution_count": 13,
     "metadata": {},
     "output_type": "execute_result"
    }
   ],
   "source": [
    "torch.zeros(3, 2)"
   ]
  },
  {
   "cell_type": "code",
   "execution_count": 14,
   "id": "188a601d-fbc0-44d8-a157-91f8bda6184d",
   "metadata": {},
   "outputs": [
    {
     "data": {
      "text/plain": [
       "torch.int32"
      ]
     },
     "execution_count": 14,
     "metadata": {},
     "output_type": "execute_result"
    }
   ],
   "source": [
    "torch.zeros(size=(3, 2), dtype=torch.int32).dtype"
   ]
  },
  {
   "cell_type": "markdown",
   "id": "d272d637-d808-41d2-a7b5-6b1014422c1d",
   "metadata": {},
   "source": [
    "# ones"
   ]
  },
  {
   "cell_type": "code",
   "execution_count": 16,
   "id": "d36db26a-ac66-46c2-a952-27e89417da12",
   "metadata": {},
   "outputs": [
    {
     "name": "stdout",
     "output_type": "stream",
     "text": [
      "tensor([[1, 1],\n",
      "        [1, 1],\n",
      "        [1, 1]], dtype=torch.int16)\n",
      "torch.int16 torch.Size([3, 2])\n"
     ]
    }
   ],
   "source": [
    "one_ts = torch.ones(size=(3, 2), dtype=torch.int16)\n",
    "print(one_ts)\n",
    "print(one_ts.dtype, one_ts.shape)"
   ]
  }
 ],
 "metadata": {
  "kernelspec": {
   "display_name": "test_venv",
   "language": "python",
   "name": "test_venv"
  },
  "language_info": {
   "codemirror_mode": {
    "name": "ipython",
    "version": 3
   },
   "file_extension": ".py",
   "mimetype": "text/x-python",
   "name": "python",
   "nbconvert_exporter": "python",
   "pygments_lexer": "ipython3",
   "version": "3.13.7"
  }
 },
 "nbformat": 4,
 "nbformat_minor": 5
}

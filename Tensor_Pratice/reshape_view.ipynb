{
 "cells": [
  {
   "cell_type": "markdown",
   "id": "9cb2e67c-1de4-473c-bf10-a8dae243baa1",
   "metadata": {},
   "source": [
    "# reshape(), view()\n",
    "\n",
    "둘 다 tensor 형태 변환 (view()는 contiguous memory 구조에서만 동작)\n",
    "\n",
    "contiguous memory: 연속 메모리"
   ]
  },
  {
   "cell_type": "code",
   "execution_count": 9,
   "id": "26d32661-0c87-424b-9b44-74b3e2e26050",
   "metadata": {},
   "outputs": [
    {
     "name": "stdout",
     "output_type": "stream",
     "text": [
      "ts_01:\n",
      " tensor([0, 1, 2, 3, 4, 5, 6, 7, 8, 9])\n",
      "ts_02:\n",
      " tensor([[0, 1, 2, 3, 4],\n",
      "        [5, 6, 7, 8, 9]])\n",
      "ts_03:\n",
      " tensor([[0, 1],\n",
      "        [2, 3],\n",
      "        [4, 5],\n",
      "        [6, 7],\n",
      "        [8, 9]])\n"
     ]
    }
   ],
   "source": [
    "import torch \n",
    "\n",
    "ts_01 = torch.arange(10)\n",
    "print('ts_01:\\n', ts_01)\n",
    "\n",
    "ts_02 = ts_01.reshape((2, 5))\n",
    "print('ts_02:\\n',ts_02)\n",
    "\n",
    "ts_03 = ts_01.reshape(5, 2)\n",
    "print('ts_03:\\n',ts_03)"
   ]
  },
  {
   "cell_type": "code",
   "execution_count": 7,
   "id": "4722e8bb-b6ef-4ea2-851f-f13f630dc78e",
   "metadata": {},
   "outputs": [
    {
     "name": "stdout",
     "output_type": "stream",
     "text": [
      "ts_01:\n",
      " tensor([ 0,  1,  2,  3,  4,  5,  6,  7,  8,  9, 10, 11])\n",
      "ts_04:\n",
      " tensor([[[ 0,  1],\n",
      "         [ 2,  3],\n",
      "         [ 4,  5]],\n",
      "\n",
      "        [[ 6,  7],\n",
      "         [ 8,  9],\n",
      "         [10, 11]]])\n"
     ]
    }
   ],
   "source": [
    "# 3차원 변경\n",
    "\n",
    "ts_01 = torch.arange(12)\n",
    "print('ts_01:\\n', ts_01)\n",
    "\n",
    "ts_04 = ts_01.reshape(2, 3, 2) \n",
    "print('ts_04:\\n',ts_04)"
   ]
  },
  {
   "cell_type": "code",
   "execution_count": 11,
   "id": "e2926b96-97ae-4552-928e-02756b5cf527",
   "metadata": {},
   "outputs": [
    {
     "name": "stdout",
     "output_type": "stream",
     "text": [
      "ts_02:\n",
      " tensor([[0, 1, 2, 3, 4],\n",
      "        [5, 6, 7, 8, 9]]) torch.Size([2, 5])\n"
     ]
    }
   ],
   "source": [
    "ts_01 = torch.arange(10)\n",
    "\n",
    "ts_02 = ts_01.view((2, 5))\n",
    "print('ts_02:\\n', ts_02, ts_02.shape)"
   ]
  },
  {
   "cell_type": "code",
   "execution_count": 12,
   "id": "80b0747a-252c-4066-8c29-e282efc2b5fc",
   "metadata": {},
   "outputs": [
    {
     "name": "stdout",
     "output_type": "stream",
     "text": [
      "torch.Size([16, 3072])\n"
     ]
    }
   ],
   "source": [
    "torch.manual_seed(2025) \n",
    "\n",
    "ts_01 = torch.rand(size=(16, 3, 32, 32)) # 4차원\n",
    "ts_02 = ts_01.view(16, -1) # 차원\n",
    "print(ts_02.shape)"
   ]
  },
  {
   "cell_type": "markdown",
   "id": "547fc0fc-6fdc-482e-a124-512a2bfe2b42",
   "metadata": {},
   "source": [
    "위에 [16, 3, 32, 32] 를 2차원으로 바꾸고 싶다면 [16, -1]를 넣어주면 된다.\n",
    "[16, 3 * 32 * 32]"
   ]
  },
  {
   "cell_type": "code",
   "execution_count": 13,
   "id": "365e2fe8-ec78-4f9f-8b0f-9a5b94424e6d",
   "metadata": {},
   "outputs": [
    {
     "name": "stdout",
     "output_type": "stream",
     "text": [
      "True True True\n"
     ]
    }
   ],
   "source": [
    "#기본적으로 tensor는 contiguous memory 구조로 생성됨. \n",
    "ts_01 = torch.arange(10)\n",
    "ts_02 = ts_01.view(2, -1)\n",
    "ts_03 = ts_01.reshape(2, -1)\n",
    "\n",
    "print(ts_01.is_contiguous(), ts_02.is_contiguous(), ts_03.is_contiguous())\n",
    "# True, True, True"
   ]
  },
  {
   "cell_type": "markdown",
   "id": "afea2c41-a62f-4400-9997-7b484f56fef1",
   "metadata": {},
   "source": [
    "기본적으로 tensor는 contiguous memory 구조이기때문에 view()를 권장함"
   ]
  },
  {
   "cell_type": "code",
   "execution_count": 14,
   "id": "7dd416b9-26ff-42c2-bd24-df72bac9dcc5",
   "metadata": {},
   "outputs": [
    {
     "data": {
      "text/plain": [
       "tensor([[0, 1, 2, 3, 4],\n",
       "        [5, 6, 7, 8, 9]])"
      ]
     },
     "execution_count": 14,
     "metadata": {},
     "output_type": "execute_result"
    }
   ],
   "source": [
    "ts_02"
   ]
  },
  {
   "cell_type": "code",
   "execution_count": null,
   "id": "82614ea8-6783-44ba-bf33-0b2b4a64213a",
   "metadata": {},
   "outputs": [],
   "source": []
  }
 ],
 "metadata": {
  "kernelspec": {
   "display_name": "test_venv",
   "language": "python",
   "name": "test_venv"
  },
  "language_info": {
   "codemirror_mode": {
    "name": "ipython",
    "version": 3
   },
   "file_extension": ".py",
   "mimetype": "text/x-python",
   "name": "python",
   "nbconvert_exporter": "python",
   "pygments_lexer": "ipython3",
   "version": "3.13.7"
  }
 },
 "nbformat": 4,
 "nbformat_minor": 5
}

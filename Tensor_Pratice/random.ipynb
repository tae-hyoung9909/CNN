{
 "cells": [
  {
   "cell_type": "markdown",
   "id": "cf1f6ca5-ef52-4ede-8e2c-70dbeac4430a",
   "metadata": {},
   "source": [
    "# random\n",
    "\n",
    "rand(): 0 ~ 1 사이의 균일 분포 랜덤값 생성\n",
    "\n",
    "ranint(): random 정수값을 생성\n",
    "\n",
    "randn(): 정규 분포 랜덤값 생성"
   ]
  },
  {
   "cell_type": "code",
   "execution_count": 3,
   "id": "487ebe78-2c5a-4c26-b1e8-8f88ad45a044",
   "metadata": {},
   "outputs": [
    {
     "data": {
      "text/plain": [
       "<torch._C.Generator at 0x1d5fecd8e90>"
      ]
     },
     "execution_count": 3,
     "metadata": {},
     "output_type": "execute_result"
    }
   ],
   "source": [
    "import torch\n",
    "\n",
    "torch.manual_seed(2025)  # random 수행 시 마다 동일 값 생성을 위한 seed값 할당. "
   ]
  },
  {
   "cell_type": "code",
   "execution_count": 4,
   "id": "1c9f5f63-d344-4fa8-8341-848aee0e8468",
   "metadata": {},
   "outputs": [
    {
     "name": "stdout",
     "output_type": "stream",
     "text": [
      "ts_01:\n",
      " tensor([[0.6850, 0.9355, 0.2900, 0.3991],\n",
      "        [0.7470, 0.0215, 0.0654, 0.7855],\n",
      "        [0.3883, 0.6340, 0.9447, 0.4773]]) torch.float32\n",
      "tensor(0.0215) tensor(0.9447)\n"
     ]
    }
   ],
   "source": [
    "ts_01 = torch.rand(size=(3, 4)) # 0 ~ 1 사이의 float32 random값. 1제외\n",
    "print('ts_01:\\n', ts_01, ts_01.dtype)\n",
    "print(ts_01.min(), ts_01.max())"
   ]
  },
  {
   "cell_type": "code",
   "execution_count": 8,
   "id": "a7e18bf7-62d8-44bd-bed3-3ce89712d0ea",
   "metadata": {},
   "outputs": [
    {
     "name": "stdout",
     "output_type": "stream",
     "text": [
      "ts_01:\n",
      " tensor([[37, 63, 21,  7],\n",
      "        [14, 93, 46, 76],\n",
      "        [52, 26, 42, 55]]) torch.int64\n",
      "tensor(7) tensor(93)\n"
     ]
    }
   ],
   "source": [
    "ts_01 = torch.randint(low=0, high=100, size=(3, 4)) # 0 ~ 99까지의 random value\n",
    "print('ts_01:\\n', ts_01, ts_01.dtype)\n",
    "print(ts_01.min(), ts_01.max())"
   ]
  },
  {
   "cell_type": "code",
   "execution_count": 9,
   "id": "4ce099d3-56ce-4fc6-b1b6-5b12047d8e1f",
   "metadata": {},
   "outputs": [
    {
     "name": "stdout",
     "output_type": "stream",
     "text": [
      "ts_01:\n",
      " tensor([[ 1.5240,  0.3135, -0.1225, -0.7499],\n",
      "        [ 2.1797, -1.2386,  0.8984,  0.2925],\n",
      "        [ 0.3088, -0.1869,  2.3893,  0.4012]]) torch.float32\n",
      "tensor(-1.2386) tensor(2.3893) tensor(0.5008) tensor(1.1970)\n"
     ]
    }
   ],
   "source": [
    "ts_01 = torch.randn(size=(3, 4)) # 평균이 0 이고, 분산이 1인 정규 분포 random value. \n",
    "print('ts_01:\\n', ts_01, ts_01.dtype)\n",
    "print(ts_01.min(), ts_01.max(), ts_01.mean(), ts_01.var())"
   ]
  },
  {
   "cell_type": "code",
   "execution_count": null,
   "id": "76d4e7e9-b7e7-4d85-b922-830ad1693df6",
   "metadata": {},
   "outputs": [],
   "source": []
  }
 ],
 "metadata": {
  "kernelspec": {
   "display_name": "test_venv",
   "language": "python",
   "name": "test_venv"
  },
  "language_info": {
   "codemirror_mode": {
    "name": "ipython",
    "version": 3
   },
   "file_extension": ".py",
   "mimetype": "text/x-python",
   "name": "python",
   "nbconvert_exporter": "python",
   "pygments_lexer": "ipython3",
   "version": "3.13.7"
  }
 },
 "nbformat": 4,
 "nbformat_minor": 5
}

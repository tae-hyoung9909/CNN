{
 "cells": [
  {
   "cell_type": "markdown",
   "id": "9875f61c-814f-48ac-92bc-cf198e4ffd63",
   "metadata": {},
   "source": [
    "# 넘파이 <-> 텐서 상호 변환"
   ]
  },
  {
   "cell_type": "code",
   "execution_count": 2,
   "id": "bae0cf4c-7964-44c1-8280-115e4e3d52e8",
   "metadata": {},
   "outputs": [
    {
     "name": "stdout",
     "output_type": "stream",
     "text": [
      "<class 'numpy.ndarray'> tensor([1, 2]) tensor([1, 2])\n"
     ]
    }
   ],
   "source": [
    "import torch\n",
    "import numpy as np\n",
    "\n",
    "# numpy array -> tensor\n",
    "arr_01 = np.array([1, 2])\n",
    "ts_01 = torch.tensor(arr_01) #방법 1\n",
    "ts_02 = torch.from_numpy(arr_01) #방법 2\n",
    "print(type(arr_01), ts_01, ts_02)"
   ]
  },
  {
   "cell_type": "code",
   "execution_count": 3,
   "id": "e02012f8-503f-4947-92fb-4053261f4dba",
   "metadata": {},
   "outputs": [
    {
     "name": "stdout",
     "output_type": "stream",
     "text": [
      "[1 2] <class 'numpy.ndarray'> [1, 2] <class 'list'>\n"
     ]
    }
   ],
   "source": [
    "# tensor -> array 또는 list \n",
    "arr_01_1 = ts_01.numpy()\n",
    "list_01 = ts_01.tolist()\n",
    "print(arr_01_1, type(arr_01_1), list_01, type(list_01))"
   ]
  },
  {
   "cell_type": "code",
   "execution_count": null,
   "id": "0d484c10-1586-4d10-a385-06464a4c6185",
   "metadata": {},
   "outputs": [],
   "source": []
  }
 ],
 "metadata": {
  "kernelspec": {
   "display_name": "test_venv",
   "language": "python",
   "name": "test_venv"
  },
  "language_info": {
   "codemirror_mode": {
    "name": "ipython",
    "version": 3
   },
   "file_extension": ".py",
   "mimetype": "text/x-python",
   "name": "python",
   "nbconvert_exporter": "python",
   "pygments_lexer": "ipython3",
   "version": "3.13.7"
  }
 },
 "nbformat": 4,
 "nbformat_minor": 5
}
